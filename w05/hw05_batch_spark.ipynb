{
 "cells": [
  {
   "cell_type": "code",
   "execution_count": 33,
   "id": "d1a5f46a-6031-4d2c-82a8-7bf217dd78e0",
   "metadata": {},
   "outputs": [],
   "source": [
    "import pyspark\n",
    "from pyspark.sql import SparkSession\n",
    "from pyspark.sql import functions as F"
   ]
  },
  {
   "cell_type": "code",
   "execution_count": 2,
   "id": "f172b9f2-219e-49b0-9000-368a14ee4fa8",
   "metadata": {},
   "outputs": [],
   "source": [
    "from pathlib import Path"
   ]
  },
  {
   "cell_type": "code",
   "execution_count": 17,
   "id": "e882c412-f630-4f9c-8c49-6dd2bf7495f4",
   "metadata": {},
   "outputs": [],
   "source": [
    "import os\n",
    "import sys\n",
    "\n",
    "os.environ['PYSPARK_PYTHON'] = sys.executable\n",
    "os.environ['PYSPARK_DRIVER_PYTHON'] = sys.executable"
   ]
  },
  {
   "cell_type": "markdown",
   "id": "74567625-802d-438a-b115-37e413c4eb34",
   "metadata": {},
   "source": [
    "## Prepare source data"
   ]
  },
  {
   "cell_type": "code",
   "execution_count": 18,
   "id": "fe4c8a09-b98c-49fd-98a6-98e676c456bb",
   "metadata": {},
   "outputs": [],
   "source": [
    "BASE_DATA_DIR = Path().resolve() / \"data\"\n",
    "SOURCE_DATA_DIR = BASE_DATA_DIR / \"pq\" / \"yellow\" / \"2024\" / \"10\"\n",
    "SOURCE_FN = SOURCE_DATA_DIR / \"yellow_tripdata_2024-10.parquet\""
   ]
  },
  {
   "cell_type": "code",
   "execution_count": 19,
   "id": "f1280774-f964-403e-9c8d-7ec9d80c2987",
   "metadata": {},
   "outputs": [],
   "source": [
    "d_cmd = \"wget https://d37ci6vzurychx.cloudfront.net/trip-data/yellow_tripdata_2024-10.parquet\"\n",
    "assert SOURCE_FN.exists(), f\"Source file not found. Please run {d_cmd!r} into {str(SOURCE_DATA_DIR)!r} directory\""
   ]
  },
  {
   "cell_type": "code",
   "execution_count": 20,
   "id": "3e25482a-d336-4024-a85d-fff06c91122f",
   "metadata": {},
   "outputs": [],
   "source": [
    "spark = SparkSession.builder \\\n",
    "    .master(\"local[*]\") \\\n",
    "    .appName('hw04') \\\n",
    "    .getOrCreate()"
   ]
  },
  {
   "cell_type": "markdown",
   "id": "ea7d9eed-f57c-4e9f-b3d0-b66d1fc80131",
   "metadata": {},
   "source": [
    "## Questions"
   ]
  },
  {
   "cell_type": "markdown",
   "id": "25f0e24f-b988-4736-8aa9-413d7d0a55f0",
   "metadata": {},
   "source": [
    "### Question 1"
   ]
  },
  {
   "cell_type": "code",
   "execution_count": 21,
   "id": "c2307690-9b44-4257-a378-f459e9c6aae8",
   "metadata": {},
   "outputs": [
    {
     "data": {
      "text/plain": [
       "'3.3.2'"
      ]
     },
     "execution_count": 21,
     "metadata": {},
     "output_type": "execute_result"
    }
   ],
   "source": [
    "spark.version"
   ]
  },
  {
   "cell_type": "markdown",
   "id": "c77f150f-7392-449b-b9f8-0490e98bf349",
   "metadata": {},
   "source": [
    "### Question 2"
   ]
  },
  {
   "cell_type": "code",
   "execution_count": 22,
   "id": "10e6d8de-4715-4bfc-bad3-7c75c80f9b33",
   "metadata": {},
   "outputs": [],
   "source": [
    "df = spark.read.parquet(str(SOURCE_FN))"
   ]
  },
  {
   "cell_type": "code",
   "execution_count": 23,
   "id": "0fda0cd9-d2f6-474f-a206-01bb36078fdd",
   "metadata": {},
   "outputs": [
    {
     "name": "stdout",
     "output_type": "stream",
     "text": [
      "+--------+--------------------+---------------------+---------------+-------------+----------+------------------+------------+------------+------------+-----------+-----+-------+----------+------------+---------------------+------------+--------------------+-----------+\n",
      "|VendorID|tpep_pickup_datetime|tpep_dropoff_datetime|passenger_count|trip_distance|RatecodeID|store_and_fwd_flag|PULocationID|DOLocationID|payment_type|fare_amount|extra|mta_tax|tip_amount|tolls_amount|improvement_surcharge|total_amount|congestion_surcharge|Airport_fee|\n",
      "+--------+--------------------+---------------------+---------------+-------------+----------+------------------+------------+------------+------------+-----------+-----+-------+----------+------------+---------------------+------------+--------------------+-----------+\n",
      "|       2| 2024-10-01 04:30:44|  2024-10-01 04:48:26|              1|          3.0|         1|                 N|         162|         246|           1|       18.4|  1.0|    0.5|       1.5|         0.0|                  1.0|        24.9|                 2.5|        0.0|\n",
      "|       1| 2024-10-01 04:12:20|  2024-10-01 04:25:25|              1|          2.2|         1|                 N|          48|         236|           1|       14.2|  3.5|    0.5|       3.8|         0.0|                  1.0|        23.0|                 2.5|        0.0|\n",
      "|       1| 2024-10-01 04:04:46|  2024-10-01 04:13:52|              1|          2.7|         1|                 N|         142|          24|           1|       13.5|  3.5|    0.5|       3.7|         0.0|                  1.0|        22.2|                 2.5|        0.0|\n",
      "|       1| 2024-10-01 04:12:10|  2024-10-01 04:23:01|              1|          3.1|         1|                 N|         233|          75|           1|       14.2|  3.5|    0.5|       2.0|         0.0|                  1.0|        21.2|                 2.5|        0.0|\n",
      "|       1| 2024-10-01 04:30:22|  2024-10-01 04:30:39|              1|          0.0|         1|                 N|         262|         262|           3|        3.0|  3.5|    0.5|       0.0|         0.0|                  1.0|         8.0|                 2.5|        0.0|\n",
      "+--------+--------------------+---------------------+---------------+-------------+----------+------------------+------------+------------+------------+-----------+-----+-------+----------+------------+---------------------+------------+--------------------+-----------+\n",
      "only showing top 5 rows\n",
      "\n"
     ]
    }
   ],
   "source": [
    "df.show(5)"
   ]
  },
  {
   "cell_type": "code",
   "execution_count": 24,
   "id": "dc4d2043-3314-4185-8915-41728780d302",
   "metadata": {},
   "outputs": [
    {
     "name": "stdout",
     "output_type": "stream",
     "text": [
      "root\n",
      " |-- VendorID: integer (nullable = true)\n",
      " |-- tpep_pickup_datetime: timestamp (nullable = true)\n",
      " |-- tpep_dropoff_datetime: timestamp (nullable = true)\n",
      " |-- passenger_count: long (nullable = true)\n",
      " |-- trip_distance: double (nullable = true)\n",
      " |-- RatecodeID: long (nullable = true)\n",
      " |-- store_and_fwd_flag: string (nullable = true)\n",
      " |-- PULocationID: integer (nullable = true)\n",
      " |-- DOLocationID: integer (nullable = true)\n",
      " |-- payment_type: long (nullable = true)\n",
      " |-- fare_amount: double (nullable = true)\n",
      " |-- extra: double (nullable = true)\n",
      " |-- mta_tax: double (nullable = true)\n",
      " |-- tip_amount: double (nullable = true)\n",
      " |-- tolls_amount: double (nullable = true)\n",
      " |-- improvement_surcharge: double (nullable = true)\n",
      " |-- total_amount: double (nullable = true)\n",
      " |-- congestion_surcharge: double (nullable = true)\n",
      " |-- Airport_fee: double (nullable = true)\n",
      "\n"
     ]
    }
   ],
   "source": [
    "df.printSchema()"
   ]
  },
  {
   "cell_type": "code",
   "execution_count": 25,
   "id": "21eb2c53-d4f9-4af2-ba17-9e45ae17cad0",
   "metadata": {},
   "outputs": [
    {
     "name": "stderr",
     "output_type": "stream",
     "text": [
      "                                                                                "
     ]
    }
   ],
   "source": [
    "OUTPUT_DIR = str(BASE_DATA_DIR / \"work\" / \"yellow\")\n",
    "df.repartition(4).write.parquet(OUTPUT_DIR, mode=\"overwrite\")"
   ]
  },
  {
   "cell_type": "code",
   "execution_count": 26,
   "id": "f5503f1d-4069-413b-b4b8-c9a2e4a777de",
   "metadata": {},
   "outputs": [
    {
     "name": "stdout",
     "output_type": "stream",
     "text": [
      "итого 97M\n",
      "-rw-r--r--. 1 student student 25M мар  2 00:30 part-00000-c43a0319-1a77-4214-9cd4-c8d67b48252d-c000.snappy.parquet\n",
      "-rw-r--r--. 1 student student 25M мар  2 00:30 part-00001-c43a0319-1a77-4214-9cd4-c8d67b48252d-c000.snappy.parquet\n",
      "-rw-r--r--. 1 student student 25M мар  2 00:30 part-00002-c43a0319-1a77-4214-9cd4-c8d67b48252d-c000.snappy.parquet\n",
      "-rw-r--r--. 1 student student 25M мар  2 00:30 part-00003-c43a0319-1a77-4214-9cd4-c8d67b48252d-c000.snappy.parquet\n",
      "-rw-r--r--. 1 student student   0 мар  2 00:30 _SUCCESS\n"
     ]
    }
   ],
   "source": [
    "!ls -lh $OUTPUT_DIR"
   ]
  },
  {
   "cell_type": "markdown",
   "id": "25ebaa1c-b191-4a44-b1c7-7ebfdddcb7fa",
   "metadata": {},
   "source": [
    "**Answer**: average size of the a Parquete file is `25Mb`"
   ]
  },
  {
   "cell_type": "markdown",
   "id": "f5063fd4-81d9-4014-9c14-0ecc12d77a23",
   "metadata": {},
   "source": [
    "### Question 3"
   ]
  },
  {
   "cell_type": "code",
   "execution_count": 27,
   "id": "f11d3900-ad6c-4aa8-8f5d-29472b7cbd95",
   "metadata": {},
   "outputs": [
    {
     "data": {
      "text/plain": [
       "['VendorID',\n",
       " 'tpep_pickup_datetime',\n",
       " 'tpep_dropoff_datetime',\n",
       " 'passenger_count',\n",
       " 'trip_distance',\n",
       " 'RatecodeID',\n",
       " 'store_and_fwd_flag',\n",
       " 'PULocationID',\n",
       " 'DOLocationID',\n",
       " 'payment_type',\n",
       " 'fare_amount',\n",
       " 'extra',\n",
       " 'mta_tax',\n",
       " 'tip_amount',\n",
       " 'tolls_amount',\n",
       " 'improvement_surcharge',\n",
       " 'total_amount',\n",
       " 'congestion_surcharge',\n",
       " 'Airport_fee']"
      ]
     },
     "execution_count": 27,
     "metadata": {},
     "output_type": "execute_result"
    }
   ],
   "source": [
    "df.columns"
   ]
  },
  {
   "cell_type": "markdown",
   "id": "7b4a3ff9-467e-4f1d-ab7a-56a86cca932e",
   "metadata": {},
   "source": [
    "#### Method A. SQL"
   ]
  },
  {
   "cell_type": "code",
   "execution_count": null,
   "id": "99cebab0-a4cf-4145-9ff8-e28c089122ea",
   "metadata": {},
   "outputs": [],
   "source": []
  },
  {
   "cell_type": "code",
   "execution_count": 28,
   "id": "9b35b0d0-e69d-4dcb-8fdc-a219dec41072",
   "metadata": {},
   "outputs": [],
   "source": [
    "query = \"\"\"\n",
    "SELECT COUNT(*) \n",
    "  FROM yellow_tripdata\n",
    " WHERE cast(tpep_pickup_datetime as date)='2024-10-15'\n",
    "\"\"\""
   ]
  },
  {
   "cell_type": "code",
   "execution_count": 36,
   "id": "84ca10bf-2e76-461c-85ff-5694206e1e6e",
   "metadata": {},
   "outputs": [
    {
     "ename": "Py4JError",
     "evalue": "An error occurred while calling o25.sql. Trace:\npy4j.Py4JException: Method sql([class java.lang.String, class [Ljava.lang.Object;]) does not exist\n\tat py4j.reflection.ReflectionEngine.getMethod(ReflectionEngine.java:318)\n\tat py4j.reflection.ReflectionEngine.getMethod(ReflectionEngine.java:326)\n\tat py4j.Gateway.invoke(Gateway.java:274)\n\tat py4j.commands.AbstractCommand.invokeMethod(AbstractCommand.java:132)\n\tat py4j.commands.CallCommand.execute(CallCommand.java:79)\n\tat py4j.ClientServerConnection.waitForCommands(ClientServerConnection.java:182)\n\tat py4j.ClientServerConnection.run(ClientServerConnection.java:106)\n\tat java.base/java.lang.Thread.run(Thread.java:834)\n\n",
     "output_type": "error",
     "traceback": [
      "\u001b[31m---------------------------------------------------------------------------\u001b[39m",
      "\u001b[31mPy4JError\u001b[39m                                 Traceback (most recent call last)",
      "\u001b[36mCell\u001b[39m\u001b[36m \u001b[39m\u001b[32mIn[36]\u001b[39m\u001b[32m, line 3\u001b[39m\n\u001b[32m      1\u001b[39m df.createOrReplaceTempView(\u001b[33m\"\u001b[39m\u001b[33myellow_tripdata\u001b[39m\u001b[33m\"\u001b[39m)\n\u001b[32m      2\u001b[39m \u001b[38;5;66;03m# df.registerTempTable(\"yellow_tripdata\")\u001b[39;00m\n\u001b[32m----> \u001b[39m\u001b[32m3\u001b[39m \u001b[43mspark\u001b[49m\u001b[43m.\u001b[49m\u001b[43msql\u001b[49m\u001b[43m(\u001b[49m\u001b[43mquery\u001b[49m\u001b[43m)\u001b[49m.show()\n",
      "\u001b[36mFile \u001b[39m\u001b[32m~/.local/lib/python3.13/site-packages/pyspark/sql/session.py:1631\u001b[39m, in \u001b[36mSparkSession.sql\u001b[39m\u001b[34m(self, sqlQuery, args, **kwargs)\u001b[39m\n\u001b[32m   1627\u001b[39m         \u001b[38;5;28;01massert\u001b[39;00m \u001b[38;5;28mself\u001b[39m._jvm \u001b[38;5;129;01mis\u001b[39;00m \u001b[38;5;129;01mnot\u001b[39;00m \u001b[38;5;28;01mNone\u001b[39;00m\n\u001b[32m   1628\u001b[39m         litArgs = \u001b[38;5;28mself\u001b[39m._jvm.PythonUtils.toArray(\n\u001b[32m   1629\u001b[39m             [_to_java_column(lit(v)) \u001b[38;5;28;01mfor\u001b[39;00m v \u001b[38;5;129;01min\u001b[39;00m (args \u001b[38;5;129;01mor\u001b[39;00m [])]\n\u001b[32m   1630\u001b[39m         )\n\u001b[32m-> \u001b[39m\u001b[32m1631\u001b[39m     \u001b[38;5;28;01mreturn\u001b[39;00m DataFrame(\u001b[38;5;28;43mself\u001b[39;49m\u001b[43m.\u001b[49m\u001b[43m_jsparkSession\u001b[49m\u001b[43m.\u001b[49m\u001b[43msql\u001b[49m\u001b[43m(\u001b[49m\u001b[43msqlQuery\u001b[49m\u001b[43m,\u001b[49m\u001b[43m \u001b[49m\u001b[43mlitArgs\u001b[49m\u001b[43m)\u001b[49m, \u001b[38;5;28mself\u001b[39m)\n\u001b[32m   1632\u001b[39m \u001b[38;5;28;01mfinally\u001b[39;00m:\n\u001b[32m   1633\u001b[39m     \u001b[38;5;28;01mif\u001b[39;00m \u001b[38;5;28mlen\u001b[39m(kwargs) > \u001b[32m0\u001b[39m:\n",
      "\u001b[36mFile \u001b[39m\u001b[32m~/.local/lib/python3.13/site-packages/py4j/java_gateway.py:1322\u001b[39m, in \u001b[36mJavaMember.__call__\u001b[39m\u001b[34m(self, *args)\u001b[39m\n\u001b[32m   1316\u001b[39m command = proto.CALL_COMMAND_NAME +\\\n\u001b[32m   1317\u001b[39m     \u001b[38;5;28mself\u001b[39m.command_header +\\\n\u001b[32m   1318\u001b[39m     args_command +\\\n\u001b[32m   1319\u001b[39m     proto.END_COMMAND_PART\n\u001b[32m   1321\u001b[39m answer = \u001b[38;5;28mself\u001b[39m.gateway_client.send_command(command)\n\u001b[32m-> \u001b[39m\u001b[32m1322\u001b[39m return_value = \u001b[43mget_return_value\u001b[49m\u001b[43m(\u001b[49m\n\u001b[32m   1323\u001b[39m \u001b[43m    \u001b[49m\u001b[43manswer\u001b[49m\u001b[43m,\u001b[49m\u001b[43m \u001b[49m\u001b[38;5;28;43mself\u001b[39;49m\u001b[43m.\u001b[49m\u001b[43mgateway_client\u001b[49m\u001b[43m,\u001b[49m\u001b[43m \u001b[49m\u001b[38;5;28;43mself\u001b[39;49m\u001b[43m.\u001b[49m\u001b[43mtarget_id\u001b[49m\u001b[43m,\u001b[49m\u001b[43m \u001b[49m\u001b[38;5;28;43mself\u001b[39;49m\u001b[43m.\u001b[49m\u001b[43mname\u001b[49m\u001b[43m)\u001b[49m\n\u001b[32m   1325\u001b[39m \u001b[38;5;28;01mfor\u001b[39;00m temp_arg \u001b[38;5;129;01min\u001b[39;00m temp_args:\n\u001b[32m   1326\u001b[39m     \u001b[38;5;28;01mif\u001b[39;00m \u001b[38;5;28mhasattr\u001b[39m(temp_arg, \u001b[33m\"\u001b[39m\u001b[33m_detach\u001b[39m\u001b[33m\"\u001b[39m):\n",
      "\u001b[36mFile \u001b[39m\u001b[32m~/.local/lib/python3.13/site-packages/pyspark/errors/exceptions/captured.py:179\u001b[39m, in \u001b[36mcapture_sql_exception.<locals>.deco\u001b[39m\u001b[34m(*a, **kw)\u001b[39m\n\u001b[32m    177\u001b[39m \u001b[38;5;28;01mdef\u001b[39;00m \u001b[34mdeco\u001b[39m(*a: Any, **kw: Any) -> Any:\n\u001b[32m    178\u001b[39m     \u001b[38;5;28;01mtry\u001b[39;00m:\n\u001b[32m--> \u001b[39m\u001b[32m179\u001b[39m         \u001b[38;5;28;01mreturn\u001b[39;00m \u001b[43mf\u001b[49m\u001b[43m(\u001b[49m\u001b[43m*\u001b[49m\u001b[43ma\u001b[49m\u001b[43m,\u001b[49m\u001b[43m \u001b[49m\u001b[43m*\u001b[49m\u001b[43m*\u001b[49m\u001b[43mkw\u001b[49m\u001b[43m)\u001b[49m\n\u001b[32m    180\u001b[39m     \u001b[38;5;28;01mexcept\u001b[39;00m Py4JJavaError \u001b[38;5;28;01mas\u001b[39;00m e:\n\u001b[32m    181\u001b[39m         converted = convert_exception(e.java_exception)\n",
      "\u001b[36mFile \u001b[39m\u001b[32m~/.local/lib/python3.13/site-packages/py4j/protocol.py:330\u001b[39m, in \u001b[36mget_return_value\u001b[39m\u001b[34m(answer, gateway_client, target_id, name)\u001b[39m\n\u001b[32m    326\u001b[39m         \u001b[38;5;28;01mraise\u001b[39;00m Py4JJavaError(\n\u001b[32m    327\u001b[39m             \u001b[33m\"\u001b[39m\u001b[33mAn error occurred while calling \u001b[39m\u001b[38;5;132;01m{0}\u001b[39;00m\u001b[38;5;132;01m{1}\u001b[39;00m\u001b[38;5;132;01m{2}\u001b[39;00m\u001b[33m.\u001b[39m\u001b[38;5;130;01m\\n\u001b[39;00m\u001b[33m\"\u001b[39m.\n\u001b[32m    328\u001b[39m             \u001b[38;5;28mformat\u001b[39m(target_id, \u001b[33m\"\u001b[39m\u001b[33m.\u001b[39m\u001b[33m\"\u001b[39m, name), value)\n\u001b[32m    329\u001b[39m     \u001b[38;5;28;01melse\u001b[39;00m:\n\u001b[32m--> \u001b[39m\u001b[32m330\u001b[39m         \u001b[38;5;28;01mraise\u001b[39;00m Py4JError(\n\u001b[32m    331\u001b[39m             \u001b[33m\"\u001b[39m\u001b[33mAn error occurred while calling \u001b[39m\u001b[38;5;132;01m{0}\u001b[39;00m\u001b[38;5;132;01m{1}\u001b[39;00m\u001b[38;5;132;01m{2}\u001b[39;00m\u001b[33m. Trace:\u001b[39m\u001b[38;5;130;01m\\n\u001b[39;00m\u001b[38;5;132;01m{3}\u001b[39;00m\u001b[38;5;130;01m\\n\u001b[39;00m\u001b[33m\"\u001b[39m.\n\u001b[32m    332\u001b[39m             \u001b[38;5;28mformat\u001b[39m(target_id, \u001b[33m\"\u001b[39m\u001b[33m.\u001b[39m\u001b[33m\"\u001b[39m, name, value))\n\u001b[32m    333\u001b[39m \u001b[38;5;28;01melse\u001b[39;00m:\n\u001b[32m    334\u001b[39m     \u001b[38;5;28;01mraise\u001b[39;00m Py4JError(\n\u001b[32m    335\u001b[39m         \u001b[33m\"\u001b[39m\u001b[33mAn error occurred while calling \u001b[39m\u001b[38;5;132;01m{0}\u001b[39;00m\u001b[38;5;132;01m{1}\u001b[39;00m\u001b[38;5;132;01m{2}\u001b[39;00m\u001b[33m\"\u001b[39m.\n\u001b[32m    336\u001b[39m         \u001b[38;5;28mformat\u001b[39m(target_id, \u001b[33m\"\u001b[39m\u001b[33m.\u001b[39m\u001b[33m\"\u001b[39m, name))\n",
      "\u001b[31mPy4JError\u001b[39m: An error occurred while calling o25.sql. Trace:\npy4j.Py4JException: Method sql([class java.lang.String, class [Ljava.lang.Object;]) does not exist\n\tat py4j.reflection.ReflectionEngine.getMethod(ReflectionEngine.java:318)\n\tat py4j.reflection.ReflectionEngine.getMethod(ReflectionEngine.java:326)\n\tat py4j.Gateway.invoke(Gateway.java:274)\n\tat py4j.commands.AbstractCommand.invokeMethod(AbstractCommand.java:132)\n\tat py4j.commands.CallCommand.execute(CallCommand.java:79)\n\tat py4j.ClientServerConnection.waitForCommands(ClientServerConnection.java:182)\n\tat py4j.ClientServerConnection.run(ClientServerConnection.java:106)\n\tat java.base/java.lang.Thread.run(Thread.java:834)\n\n"
     ]
    }
   ],
   "source": [
    "df.createOrReplaceTempView(\"yellow_tripdata\")\n",
    "# df.registerTempTable(\"yellow_tripdata\")\n",
    "spark.sql(query).show()"
   ]
  },
  {
   "cell_type": "markdown",
   "id": "955ccf9e-5818-42e7-9f2b-f8d982783d4c",
   "metadata": {},
   "source": [
    "#### Method B. RDD"
   ]
  },
  {
   "cell_type": "code",
   "execution_count": 54,
   "id": "73326f69-e150-4a11-bad3-4bd979cc138a",
   "metadata": {},
   "outputs": [
    {
     "data": {
      "text/plain": [
       "120790"
      ]
     },
     "execution_count": 54,
     "metadata": {},
     "output_type": "execute_result"
    }
   ],
   "source": [
    "q3_df = df.filter(\n",
    "    F.to_date(F.col('tpep_pickup_datetime')) == '2024-10-15'\n",
    ")\n",
    "q3_df.count()"
   ]
  },
  {
   "cell_type": "code",
   "execution_count": 32,
   "id": "4853ba9c-4080-44ab-a246-308616866a6f",
   "metadata": {},
   "outputs": [
    {
     "data": {
      "text/plain": [
       "120790"
      ]
     },
     "execution_count": 32,
     "metadata": {},
     "output_type": "execute_result"
    }
   ],
   "source": [
    "df.filter(\n",
    "    (F.col('tpep_pickup_datetime')   >= F.lit('2024-10-15 00:00:00'))\n",
    "    & (F.col('tpep_pickup_datetime') <  F.lit('2024-10-16 00:00:00'))\n",
    ").count()"
   ]
  },
  {
   "cell_type": "code",
   "execution_count": 143,
   "id": "e1a2c100-425c-4dbb-ba1a-9ff908c0dc95",
   "metadata": {},
   "outputs": [
    {
     "name": "stdout",
     "output_type": "stream",
     "text": [
      "+-----------------------------+------+\n",
      "|to_date(tpep_pickup_datetime)| count|\n",
      "+-----------------------------+------+\n",
      "|                   2024-10-01| 91677|\n",
      "|                   2024-10-02|118722|\n",
      "|                   2024-10-03|107726|\n",
      "|                   2024-10-04|109602|\n",
      "|                   2024-10-05|120550|\n",
      "|                   2024-10-06|118414|\n",
      "|                   2024-10-07| 98754|\n",
      "|                   2024-10-08|112161|\n",
      "|                   2024-10-09|126646|\n",
      "|                   2024-10-10|138069|\n",
      "|                   2024-10-11|137417|\n",
      "|                   2024-10-12|126473|\n",
      "|                   2024-10-13|124164|\n",
      "|                   2024-10-14| 97424|\n",
      "|                   2024-10-15|120790|\n",
      "|                   2024-10-16|132709|\n",
      "|                   2024-10-17|134963|\n",
      "|                   2024-10-18|134964|\n",
      "|                   2024-10-19|136337|\n",
      "|                   2024-10-20|130470|\n",
      "|                   2024-10-21|104589|\n",
      "|                   2024-10-22|114718|\n",
      "|                   2024-10-23|125877|\n",
      "|                   2024-10-24|131985|\n",
      "|                   2024-10-25|137114|\n",
      "|                   2024-10-26|146180|\n",
      "|                   2024-10-27|138325|\n",
      "|                   2024-10-28|106843|\n",
      "|                   2024-10-29|119687|\n",
      "|                   2024-10-30|131914|\n",
      "|                   2024-10-31|130521|\n",
      "+-----------------------------+------+\n",
      "\n"
     ]
    }
   ],
   "source": [
    "df.filter(\n",
    "        (F.col('tpep_pickup_datetime') >= F.lit('2024-10-01 00:00:00')) & \n",
    "        (F.col('tpep_pickup_datetime') < F.lit('2024-11-01 00:00:00'))\n",
    "    )\\\n",
    "    .groupby(F.to_date(F.col('tpep_pickup_datetime'))) \\\n",
    "    .count() \\\n",
    "    .sort(F.lit(1)) \\\n",
    "    .show(32)"
   ]
  },
  {
   "cell_type": "markdown",
   "id": "28ab0f29-f73e-497e-b3c5-0b4ae3e02112",
   "metadata": {},
   "source": [
    "**Answer**: The closest answer from the suggested list is `125,567`"
   ]
  },
  {
   "cell_type": "markdown",
   "id": "e19d4d95-4d64-45dc-96b9-278054029433",
   "metadata": {},
   "source": [
    "### Question 4"
   ]
  },
  {
   "cell_type": "code",
   "execution_count": 94,
   "id": "90424dc0-19cb-45ff-ab43-eb044097f2d7",
   "metadata": {},
   "outputs": [],
   "source": [
    "qr4_df = df.select(\n",
    "    [\n",
    "        'tpep_pickup_datetime',\n",
    "        'tpep_dropoff_datetime',\n",
    "        F.col('tpep_dropoff_datetime') - F.col('tpep_pickup_datetime')\n",
    "        # F.to_unix_timestamp(F.col('tpep_dropoff_datetime'))\n",
    "    ]\n",
    ").sort(F.lit(3).desc()).take(1)"
   ]
  },
  {
   "cell_type": "code",
   "execution_count": 114,
   "id": "354bf091-99a1-44e5-afd2-a440a9d8f433",
   "metadata": {},
   "outputs": [
    {
     "name": "stdout",
     "output_type": "stream",
     "text": [
      "Answer: the longest trip in the dataset is '162' hours\n"
     ]
    }
   ],
   "source": [
    "longest_trip_hours = qr4_df[0][-1].total_seconds() / 60 / 60\n",
    "print(f\"Answer: the longest trip in the dataset is '{int(longest_trip_hours)}' hours\")"
   ]
  },
  {
   "cell_type": "markdown",
   "id": "63a508b4-2f10-4333-8bba-40eca59bdef8",
   "metadata": {},
   "source": [
    "### Question 5"
   ]
  },
  {
   "cell_type": "markdown",
   "id": "2257011d-d171-4508-bd25-bf31f8fc1f1f",
   "metadata": {},
   "source": [
    "**Answer**: Spark’s User Interface which shows the application's dashboard runs on `4040` local port"
   ]
  },
  {
   "cell_type": "markdown",
   "id": "9121f2e2-4b75-44cb-a060-23028d1c16e7",
   "metadata": {},
   "source": [
    "### Question 6"
   ]
  },
  {
   "cell_type": "code",
   "execution_count": 119,
   "id": "53285fc5-9fce-449d-b360-161c7980ab08",
   "metadata": {},
   "outputs": [],
   "source": [
    "df_zone = spark.read \\\n",
    "    .option(\"header\", \"true\") \\\n",
    "    .csv(str(BASE_DATA_DIR / \"taxi_zone_lookup.csv\"))"
   ]
  },
  {
   "cell_type": "code",
   "execution_count": 139,
   "id": "e3980f6b-6dc4-4e53-878f-228b81515f3b",
   "metadata": {},
   "outputs": [
    {
     "name": "stdout",
     "output_type": "stream",
     "text": [
      "+----------+-------------+--------------------+------------+\n",
      "|LocationID|      Borough|                Zone|service_zone|\n",
      "+----------+-------------+--------------------+------------+\n",
      "|         1|          EWR|      Newark Airport|         EWR|\n",
      "|         2|       Queens|         Jamaica Bay|   Boro Zone|\n",
      "|         3|        Bronx|Allerton/Pelham G...|   Boro Zone|\n",
      "|         4|    Manhattan|       Alphabet City| Yellow Zone|\n",
      "|         5|Staten Island|       Arden Heights|   Boro Zone|\n",
      "+----------+-------------+--------------------+------------+\n",
      "only showing top 5 rows\n",
      "\n"
     ]
    }
   ],
   "source": [
    "df_zone.show(5)"
   ]
  },
  {
   "cell_type": "code",
   "execution_count": 131,
   "id": "131e6b1d-3980-487b-bf34-7daa5f8b96dc",
   "metadata": {},
   "outputs": [
    {
     "name": "stdout",
     "output_type": "stream",
     "text": [
      "+--------+--------------------+---------------------+---------------+-------------+----------+------------------+------------+------------+------------+-----------+-----+-------+----------+------------+---------------------+------------+--------------------+-----------+----------+---------+-------------------+------------+\n",
      "|VendorID|tpep_pickup_datetime|tpep_dropoff_datetime|passenger_count|trip_distance|RatecodeID|store_and_fwd_flag|PULocationID|DOLocationID|payment_type|fare_amount|extra|mta_tax|tip_amount|tolls_amount|improvement_surcharge|total_amount|congestion_surcharge|Airport_fee|LocationID|Borough  |Zone               |service_zone|\n",
      "+--------+--------------------+---------------------+---------------+-------------+----------+------------------+------------+------------+------------+-----------+-----+-------+----------+------------+---------------------+------------+--------------------+-----------+----------+---------+-------------------+------------+\n",
      "|2       |2024-10-01 04:30:44 |2024-10-01 04:48:26  |1              |3.0          |1         |N                 |162         |246         |1           |18.4       |1.0  |0.5    |1.5       |0.0         |1.0                  |24.9        |2.5                 |0.0        |162       |Manhattan|Midtown East       |Yellow Zone |\n",
      "|1       |2024-10-01 04:12:20 |2024-10-01 04:25:25  |1              |2.2          |1         |N                 |48          |236         |1           |14.2       |3.5  |0.5    |3.8       |0.0         |1.0                  |23.0        |2.5                 |0.0        |48        |Manhattan|Clinton East       |Yellow Zone |\n",
      "|1       |2024-10-01 04:04:46 |2024-10-01 04:13:52  |1              |2.7          |1         |N                 |142         |24          |1           |13.5       |3.5  |0.5    |3.7       |0.0         |1.0                  |22.2        |2.5                 |0.0        |142       |Manhattan|Lincoln Square East|Yellow Zone |\n",
      "|1       |2024-10-01 04:12:10 |2024-10-01 04:23:01  |1              |3.1          |1         |N                 |233         |75          |1           |14.2       |3.5  |0.5    |2.0       |0.0         |1.0                  |21.2        |2.5                 |0.0        |233       |Manhattan|UN/Turtle Bay South|Yellow Zone |\n",
      "|1       |2024-10-01 04:30:22 |2024-10-01 04:30:39  |1              |0.0          |1         |N                 |262         |262         |3           |3.0        |3.5  |0.5    |0.0       |0.0         |1.0                  |8.0         |2.5                 |0.0        |262       |Manhattan|Yorkville East     |Yellow Zone |\n",
      "+--------+--------------------+---------------------+---------------+-------------+----------+------------------+------------+------------+------------+-----------+-----+-------+----------+------------+---------------------+------------+--------------------+-----------+----------+---------+-------------------+------------+\n",
      "only showing top 5 rows\n",
      "\n"
     ]
    }
   ],
   "source": [
    "joined_df = df.join(df_zone, df.PULocationID==df_zone.LocationID, \"inner\") \n",
    "joined_df.show(5, truncate=False)"
   ]
  },
  {
   "cell_type": "code",
   "execution_count": 125,
   "id": "0431a8c1-b959-4615-bc68-c5a14bbee092",
   "metadata": {},
   "outputs": [
    {
     "data": {
      "text/plain": [
       "['VendorID',\n",
       " 'tpep_pickup_datetime',\n",
       " 'tpep_dropoff_datetime',\n",
       " 'passenger_count',\n",
       " 'trip_distance',\n",
       " 'RatecodeID',\n",
       " 'store_and_fwd_flag',\n",
       " 'PULocationID',\n",
       " 'DOLocationID',\n",
       " 'payment_type',\n",
       " 'fare_amount',\n",
       " 'extra',\n",
       " 'mta_tax',\n",
       " 'tip_amount',\n",
       " 'tolls_amount',\n",
       " 'improvement_surcharge',\n",
       " 'total_amount',\n",
       " 'congestion_surcharge',\n",
       " 'Airport_fee',\n",
       " 'LocationID',\n",
       " 'Borough',\n",
       " 'Zone',\n",
       " 'service_zone']"
      ]
     },
     "execution_count": 125,
     "metadata": {},
     "output_type": "execute_result"
    }
   ],
   "source": [
    "joined_df.columns"
   ]
  },
  {
   "cell_type": "code",
   "execution_count": 134,
   "id": "28825625-fe15-4411-aa5e-5211aecf0abe",
   "metadata": {},
   "outputs": [],
   "source": [
    "cols = ['PULocationID', 'Zone']\n",
    "qr6_rows = joined_df.groupby(cols) \\\n",
    "    .count() \\\n",
    "    .sort(F.lit(3)) \\\n",
    "    .take(1)"
   ]
  },
  {
   "cell_type": "code",
   "execution_count": 140,
   "id": "57e46467-674d-4c2d-b35a-5246f56808dc",
   "metadata": {},
   "outputs": [
    {
     "name": "stdout",
     "output_type": "stream",
     "text": [
      "Answer: The name of the LEAST frequent pickup zone location: \"Governor's Island/Ellis Island/Liberty Island\"\n"
     ]
    }
   ],
   "source": [
    "print(f\"Answer: The name of the LEAST frequent pickup zone location: {qr6_rows[0][1]!r}\")"
   ]
  }
 ],
 "metadata": {
  "kernelspec": {
   "display_name": "Python 3 (ipykernel)",
   "language": "python",
   "name": "python3"
  },
  "language_info": {
   "codemirror_mode": {
    "name": "ipython",
    "version": 3
   },
   "file_extension": ".py",
   "mimetype": "text/x-python",
   "name": "python",
   "nbconvert_exporter": "python",
   "pygments_lexer": "ipython3",
   "version": "3.13.2"
  }
 },
 "nbformat": 4,
 "nbformat_minor": 5
}
